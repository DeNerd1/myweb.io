{
  "cells": [
    {
      "cell_type": "markdown",
      "metadata": {
        "id": "view-in-github",
        "colab_type": "text"
      },
      "source": [
        "<a href=\"https://colab.research.google.com/github/DeNerd1/myweb.io/blob/main/Exercise4_3.ipynb\" target=\"_parent\"><img src=\"https://colab.research.google.com/assets/colab-badge.svg\" alt=\"Open In Colab\"/></a>"
      ]
    },
    {
      "cell_type": "markdown",
      "id": "2d1c8ce9",
      "metadata": {
        "id": "2d1c8ce9"
      },
      "source": [
        "## Assignment 3 - Applying the classifier\n",
        "Finally, we can bring together the pieces that we have created in problems 1 and 2. Here, your aim is to take\n",
        "advantage of your new functions and sort a dataset of temperatures in Fahrenheit into four different classes.\n",
        "\n",
        "### Scores for this problem\n",
        "\n",
        "**Your score on this problem will be based on following criteria:**\n",
        "\n",
        "- Creating a new **script** file called `temp_functions.py` with the functions that you wrote in Problems 1 and 2\n",
        "- Including a docstring in the script file\n",
        "- Converting and classifying the list of temperatures in Part 2\n",
        "- Storing the number of temperatures in each class in the specified variables\n",
        "- Answering some questions at the end of this problem\n"
      ]
    },
    {
      "cell_type": "markdown",
      "id": "2620ac83",
      "metadata": {
        "id": "2620ac83"
      },
      "source": [
        "### Part 1: Creating a script file\n",
        "\n",
        "For this part you should\n",
        "\n",
        "- Create a new **script** file called `temp_functions.py` in your work directory as we saw in the Lecture 4. Copy and paste the functions that you wrote in Problems 1 and 2 into that script file (i.e., the `fahr_to_celsius` and `temp_classifier` functions)\n",
        "- Add a docstring to the script file (in addition to the separate docstrings in the functions)\n",
        "- Save the script file (CTRL + S) and continue working in **this** Notebook"
      ]
    },
    {
      "cell_type": "markdown",
      "id": "73516229",
      "metadata": {
        "id": "73516229"
      },
      "source": [
        "### Part 2: Convert Fahrenheit temperatures to Celsius\n",
        "\n",
        "For this part you should\n",
        "\n",
        "1. Store the Fahrenheit temperatures below into the list `temp_data` (just execute the existing code cell below)."
      ]
    },
    {
      "cell_type": "code",
      "execution_count": 86,
      "id": "4b0f1c65",
      "metadata": {
        "id": "4b0f1c65"
      },
      "outputs": [],
      "source": [
        "# List of half-hourly temperature values (in degrees Fahrenheit) for one week\n",
        "temp_data =  [19, 21, 21, 21, 23, 23, 23, 21, 19, 21, 19, 21, 23, 27, 27, 28, 30, 30, 32, 32, 32, 32,\n",
        "              34, 34, 34, 36, 36, 36, 36, 36, 36, 34, 34, 34, 34, 34, 34, 32, 30, 30, 30, 28, 28, 27,\n",
        "              27, 27, 23, 23, 21, 21, 21, 19, 19, 19, 18, 18, 21, 27, 28, 30, 32, 34, 36, 37, 37, 37,\n",
        "              39, 39, 39, 39, 39, 39, 41, 41, 41, 41, 41, 39, 39, 37, 37, 36, 36, 34, 34, 32, 30, 30,\n",
        "              28, 27, 27, 25, 23, 23, 21, 21, 19, 19, 19, 18, 18, 18, 21, 25, 27, 28, 34, 34, 41, 37,\n",
        "              37, 39, 39, 39, 39, 41, 41, 39, 39, 39, 39, 39, 41, 39, 39, 39, 37, 36, 34, 32, 28, 28,\n",
        "              27, 25, 25, 25, 23, 23, 23, 23, 21, 21, 21, 21, 19, 21, 19, 21, 21, 19, 21, 27, 28, 32,\n",
        "              36, 36, 37, 39, 39, 39, 39, 39, 41, 41, 41, 41, 41, 41, 41, 41, 41, 39, 37, 36, 36, 34,\n",
        "              32, 30, 28, 28, 27, 27, 25, 25, 23, 23, 23, 21, 21, 21, 19, 19, 19, 19, 19, 19, 21, 23,\n",
        "              23, 23, 25, 27, 30, 36, 37, 37, 39, 39, 41, 41, 41, 39, 39, 41, 43, 43, 43, 43, 43, 43,\n",
        "              43, 43, 43, 39, 37, 37, 37, 36, 36, 36, 36, 34, 32, 32, 32, 32, 30, 30, 28, 28, 28, 27,\n",
        "              27, 27, 27, 25, 27, 27, 27, 28, 28, 28, 30, 32, 32, 32, 34, 34, 36, 36, 36, 37, 37, 37,\n",
        "              37, 37, 37, 37, 37, 37, 36, 34, 30, 30, 27, 27, 25, 25, 23, 21, 21, 21, 21, 19, 19, 19,\n",
        "              19, 19, 18, 18, 18, 18, 18, 19, 23, 27, 30, 32, 32, 32, 32, 32, 32, 34, 34, 34, 34, 34,\n",
        "              36, 36, 36, 36, 36, 32, 32, 32, 32, 32, 32, 32, 32, 30, 30, 30, 30, 30, 30, 30, 30, 30,\n",
        "              30, 30, 30, 30, 28, 28]"
      ]
    },
    {
      "cell_type": "markdown",
      "id": "d0b7f454",
      "metadata": {
        "id": "d0b7f454"
      },
      "source": [
        "#### Part 2 (continues)\n",
        "\n",
        "2. Import the `fahr_to_celsius` and `temp_classifier` functions from your `temp_functions.py` script\n",
        "3. Create an empty list called `temp_classes` (which will be filled with temperature class numbers later)\n",
        "4. **Convert the Fahrenheit temperatures** in the `temp_data` list into Celsius and **classify the Celsius temperatures** using the importend functions. The output should be stored in the `temp_classes` list.\n",
        "\n",
        "    **You can do the temperature conversion and classification inside one for loop:**\n",
        "\n",
        "    - Iterate over the list of Fahrenheit temperatures (i.e., create a `for` loop), and inside the loop:\n",
        "\n",
        "        1. Create a new variable called `temp_celsius` in which you assign the temperature in Celsius using the `fahr_to_celsius` function to convert the Fahrenheit temperature into Celsius\n",
        "        2. Create a new variable called `temp_class` in which you assign the temperature class number (0, 1, 2, or 3) using the `temp_classifier` function\n",
        "        3. Add the `temp_class` value to the `temp_classes` list"
      ]
    },
    {
      "cell_type": "code",
      "execution_count": 87,
      "id": "b8e65fe5",
      "metadata": {
        "colab": {
          "base_uri": "https://localhost:8080/"
        },
        "id": "b8e65fe5",
        "outputId": "b4037b59-c7b2-4385-f540-277406e6af5b"
      },
      "outputs": [
        {
          "output_type": "stream",
          "name": "stdout",
          "text": [
            "[0, 0, 0, 0, 0, 0, 0, 0, 0, 0, 0, 0, 0, 0, 0, 0, 1, 1, 1, 1, 1, 1, 1, 1, 1, 2, 2, 2, 2, 2, 2, 1, 1, 1, 1, 1, 1, 1, 1, 1, 1, 0, 0, 0, 0, 0, 0, 0, 0, 0, 0, 0, 0, 0, 0, 0, 0, 0, 0, 1, 1, 1, 2, 2, 2, 2, 2, 2, 2, 2, 2, 2, 2, 2, 2, 2, 2, 2, 2, 2, 2, 2, 2, 1, 1, 1, 1, 1, 0, 0, 0, 0, 0, 0, 0, 0, 0, 0, 0, 0, 0, 0, 0, 0, 0, 0, 1, 1, 2, 2, 2, 2, 2, 2, 2, 2, 2, 2, 2, 2, 2, 2, 2, 2, 2, 2, 2, 2, 1, 1, 0, 0, 0, 0, 0, 0, 0, 0, 0, 0, 0, 0, 0, 0, 0, 0, 0, 0, 0, 0, 0, 0, 0, 1, 2, 2, 2, 2, 2, 2, 2, 2, 2, 2, 2, 2, 2, 2, 2, 2, 2, 2, 2, 2, 2, 1, 1, 1, 0, 0, 0, 0, 0, 0, 0, 0, 0, 0, 0, 0, 0, 0, 0, 0, 0, 0, 0, 0, 0, 0, 0, 0, 1, 2, 2, 2, 2, 2, 2, 2, 2, 2, 2, 2, 2, 2, 2, 2, 2, 2, 2, 2, 2, 2, 2, 2, 2, 2, 2, 2, 2, 1, 1, 1, 1, 1, 1, 1, 0, 0, 0, 0, 0, 0, 0, 0, 0, 0, 0, 0, 0, 0, 1, 1, 1, 1, 1, 1, 2, 2, 2, 2, 2, 2, 2, 2, 2, 2, 2, 2, 2, 1, 1, 1, 0, 0, 0, 0, 0, 0, 0, 0, 0, 0, 0, 0, 0, 0, 0, 0, 0, 0, 0, 0, 0, 0, 1, 1, 1, 1, 1, 1, 1, 1, 1, 1, 1, 1, 2, 2, 2, 2, 2, 1, 1, 1, 1, 1, 1, 1, 1, 1, 1, 1, 1, 1, 1, 1, 1, 1, 1, 1, 1, 1, 0, 0]\n"
          ]
        }
      ],
      "source": [
        "# YOUR CODE HERE\n",
        "from temp_functions import fahr_to_celsius  , temp_classifier\n",
        "\n",
        "temp_classes = []\n",
        "for tf in temp_data:\n",
        "    temp_celsius = round(fahr_to_celsius(tf),2)\n",
        "    temp_class = temp_classifier(temp_celsius)\n",
        "    temp_classes.append(temp_class)\n",
        "    #print(\"F\",tf,\"C\", temp_in_celsius)\n",
        "\n",
        "print(temp_classes)\n",
        "#raise NotImplementedError()"
      ]
    },
    {
      "cell_type": "markdown",
      "id": "e41a3957",
      "metadata": {
        "id": "e41a3957"
      },
      "source": [
        "#### Part 2 (continues)\n",
        "\n",
        "6. Calculate how many temperatures there are in each temperature class:\n",
        "\n",
        "    1. Create four variables called `zeros`, `ones`, `twos`, and `threes`\n",
        "    2. Count and assign to each variable how many times values 0, 1, 2, and 3 are present in the `temp_classes` list and print out the results below. In other words, assign the value of how many time `0` is in the list to the variable `zeros`, and so on.\n",
        "  \n",
        "**TIP**: You might want to consider using a [**count()** function](https://www.tutorialspoint.com/python3/list_count.htm) OR a for loop for this."
      ]
    },
    {
      "cell_type": "code",
      "execution_count": 88,
      "id": "670fdc82",
      "metadata": {
        "colab": {
          "base_uri": "https://localhost:8080/"
        },
        "id": "670fdc82",
        "outputId": "7312cf31-40d6-44c9-f3f1-3e444370bda5"
      },
      "outputs": [
        {
          "output_type": "stream",
          "name": "stdout",
          "text": [
            "Number of temperature entries with zeros values:  137\n",
            "Number of temperature entries with ones values:  85\n",
            "Number of temperature entries with twos values:  114\n",
            "Number of temperature entries with threes values:  0\n"
          ]
        }
      ],
      "source": [
        "zeros = 0\n",
        "ones = 0\n",
        "twos = 0\n",
        "threes = 0\n",
        "for number in temp_classes:\n",
        "   if number ==0:\n",
        "     zeros =zeros +1\n",
        "   if number ==1:\n",
        "     ones =ones +1\n",
        "   if number ==2:\n",
        "      twos =twos +1\n",
        "   if number ==3:\n",
        "     threes =threes +1\n",
        "\n",
        "# 1. How many 0 values exist in the temp_classes list?\n",
        "print(\"Number of temperature entries with zeros values: \",zeros)\n",
        "\n",
        "# 2. How many 1 values exist in the temp_classes list?\n",
        "print(\"Number of temperature entries with ones values: \",ones)\n",
        "\n",
        "# 3. How many 2 values exist in the temp_classes list?\n",
        "print(\"Number of temperature entries with twos values: \",twos)\n",
        "\n",
        "# 4. How many 3 values exist in the temp_classes list?\n",
        "print(\"Number of temperature entries with threes values: \",threes)\n"
      ]
    },
    {
      "cell_type": "markdown",
      "id": "c6271c25",
      "metadata": {
        "id": "c6271c25"
      },
      "source": [
        "### Problem 3 tests\n",
        "\n",
        "Run the code cells below to check your answer. Note that you are not able to modify the test cells. Your solution is on the right track if you don't see any errors when running these code cells."
      ]
    },
    {
      "cell_type": "code",
      "execution_count": 89,
      "id": "96959bf4",
      "metadata": {
        "id": "96959bf4"
      },
      "outputs": [],
      "source": [
        "import inspect\n",
        "\n",
        "# Check that functions are in the namespace\n",
        "assert inspect.isfunction(fahr_to_celsius)\n",
        "assert inspect.isfunction(temp_classifier)"
      ]
    },
    {
      "cell_type": "code",
      "execution_count": 90,
      "id": "b49c7733",
      "metadata": {
        "id": "b49c7733"
      },
      "outputs": [],
      "source": [
        "# Check that variable has been created\n",
        "assert 'temp_celsius' in locals()\n",
        "assert 'temp_class' in locals()\n",
        "assert 'temp_classes' in locals()\n",
        "\n",
        "# Check that temp_classes is a list\n",
        "assert type(temp_classes) == list"
      ]
    },
    {
      "cell_type": "code",
      "execution_count": 91,
      "id": "8fd237b8",
      "metadata": {
        "id": "8fd237b8"
      },
      "outputs": [],
      "source": [
        "# Check that the functions have a single parameter\n",
        "t_params = list(inspect.signature(temp_classifier).parameters.keys())\n",
        "f_params = list(inspect.signature(fahr_to_celsius).parameters.keys())\n",
        "assert len(t_params) == 1\n",
        "assert len(f_params) == 1"
      ]
    },
    {
      "cell_type": "markdown",
      "id": "03b4da94",
      "metadata": {
        "id": "03b4da94"
      },
      "source": [
        "Check that required variables exists and print their value (check manually that the answers make sense!):"
      ]
    },
    {
      "cell_type": "code",
      "execution_count": 92,
      "id": "0bd10d77",
      "metadata": {
        "colab": {
          "base_uri": "https://localhost:8080/"
        },
        "id": "0bd10d77",
        "outputId": "fd9cc004-79b2-4c15-f740-5e5c10e226c2"
      },
      "outputs": [
        {
          "output_type": "stream",
          "name": "stdout",
          "text": [
            "137\n"
          ]
        }
      ],
      "source": [
        "# Check the variable \"zeros\"\n",
        "assert 'zeros' in locals()\n",
        "print(zeros)"
      ]
    },
    {
      "cell_type": "code",
      "execution_count": 93,
      "id": "28ba6b3b",
      "metadata": {
        "colab": {
          "base_uri": "https://localhost:8080/"
        },
        "id": "28ba6b3b",
        "outputId": "e1b75f16-c06f-46f4-abdb-07f0f3e0a372"
      },
      "outputs": [
        {
          "output_type": "stream",
          "name": "stdout",
          "text": [
            "85\n"
          ]
        }
      ],
      "source": [
        "# Check the variable \"ones\"\n",
        "assert 'ones' in locals()\n",
        "print(ones)"
      ]
    },
    {
      "cell_type": "code",
      "execution_count": 94,
      "id": "a335b113",
      "metadata": {
        "colab": {
          "base_uri": "https://localhost:8080/"
        },
        "id": "a335b113",
        "outputId": "27e28ced-c8ba-4ae7-d0dd-37c7a94c094c"
      },
      "outputs": [
        {
          "output_type": "stream",
          "name": "stdout",
          "text": [
            "114\n"
          ]
        }
      ],
      "source": [
        "# Checkthe variable \"twos\"\n",
        "assert 'twos' in locals()\n",
        "print(twos)"
      ]
    },
    {
      "cell_type": "code",
      "execution_count": 95,
      "id": "3f8396f9",
      "metadata": {
        "colab": {
          "base_uri": "https://localhost:8080/"
        },
        "id": "3f8396f9",
        "outputId": "3fc860be-b83b-47f1-dd29-840283a8891a"
      },
      "outputs": [
        {
          "output_type": "stream",
          "name": "stdout",
          "text": [
            "0\n"
          ]
        }
      ],
      "source": [
        "# Check the variable \"threes\"\n",
        "assert 'threes' in locals()\n",
        "print(threes)"
      ]
    },
    {
      "cell_type": "markdown",
      "id": "7fa61aa5",
      "metadata": {
        "id": "7fa61aa5"
      },
      "source": [
        "### Part 3: Check your code\n",
        "\n",
        "- Remeber to check that your have included comments in your code and used the required variable names\n",
        "- If you have any thoughts and concerns at this point, you can write them below."
      ]
    },
    {
      "cell_type": "markdown",
      "id": "78fcdcc6",
      "metadata": {
        "id": "78fcdcc6"
      },
      "source": [
        "YOUR ANSWER HERE"
      ]
    },
    {
      "cell_type": "markdown",
      "id": "9ca0f1ce",
      "metadata": {
        "id": "9ca0f1ce"
      },
      "source": [
        "#### All done!\n",
        "\n",
        "That's it! Now you have finished all the problems for Exercise 4!"
      ]
    },
    {
      "cell_type": "markdown",
      "id": "7d9af386-3923-4d3d-83cf-cbe07dc8154e",
      "metadata": {
        "id": "7d9af386-3923-4d3d-83cf-cbe07dc8154e"
      },
      "source": [
        "Sources for the exercise : https://geo-python-site.readthedocs.io/en/latest/ running on a Attribution-ShareAlike 4.0 International Licence https://creativecommons.org/licenses/by-sa/4.0/deed.en"
      ]
    },
    {
      "cell_type": "code",
      "execution_count": null,
      "id": "e5dcce36-f4e3-41eb-a4b0-d7c74b12aad7",
      "metadata": {
        "id": "e5dcce36-f4e3-41eb-a4b0-d7c74b12aad7"
      },
      "outputs": [],
      "source": []
    }
  ],
  "metadata": {
    "kernelspec": {
      "display_name": "Python 3 (ipykernel)",
      "language": "python",
      "name": "python3"
    },
    "language_info": {
      "codemirror_mode": {
        "name": "ipython",
        "version": 3
      },
      "file_extension": ".py",
      "mimetype": "text/x-python",
      "name": "python",
      "nbconvert_exporter": "python",
      "pygments_lexer": "ipython3",
      "version": "3.11.4"
    },
    "colab": {
      "provenance": [],
      "include_colab_link": true
    }
  },
  "nbformat": 4,
  "nbformat_minor": 5
}