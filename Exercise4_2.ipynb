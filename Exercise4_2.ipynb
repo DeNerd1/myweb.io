{
  "cells": [
    {
      "cell_type": "markdown",
      "metadata": {
        "id": "view-in-github",
        "colab_type": "text"
      },
      "source": [
        "<a href=\"https://colab.research.google.com/github/DeNerd1/myweb.io/blob/main/Exercise4_2.ipynb\" target=\"_parent\"><img src=\"https://colab.research.google.com/assets/colab-badge.svg\" alt=\"Open In Colab\"/></a>"
      ]
    },
    {
      "cell_type": "markdown",
      "id": "85e964cf",
      "metadata": {
        "id": "85e964cf"
      },
      "source": [
        "## Assignment 2 - Temperature classifier\n",
        "\n",
        "Here, you should create a function called `temp_classifier` that accepts a temperature value in Celsius that will be reclassified into integer numbers 0-3 based on following criteria:\n",
        "\n",
        "| Return value | Classification criteria                                                  |\n",
        "| :----------: | :----------------------------------------------------------------------- |\n",
        "| 0            | Temperatures below -2 degrees Celsius                                    |\n",
        "| 1            | Temperatures equal or warmer than -2, but less than +2 degrees Celsius   |\n",
        "| 2            | Temperatures equal or warmer than +2, but less than +15 degrees Celsius  |\n",
        "| 3            | Temperatures equal or warmer than +15 degrees Celsius                    |\n",
        "\n",
        "\n",
        "### Scores for this problem\n",
        "\n",
        "**Your score on this problem will be based on following criteria:**\n",
        "\n",
        "- Creating a new function called `temp_classifier` ****\n",
        "- Defining one parameter called `temp_celsius` in your `temp_classifier` function ****\n",
        "- Reclassifying input temperatures based on the criteria in the above table and returning the reclassified value as an integer number (i.e., 0, 1, 2, or 3) **)**\n",
        "- Adding comments in your code and a docstring that explains how to use your `temp_classifier` function (i.e., you should write the purpose of the function, parameters, and returned values) ****"
      ]
    },
    {
      "cell_type": "markdown",
      "id": "1c81acd8",
      "metadata": {
        "id": "1c81acd8"
      },
      "source": [
        "## Part 1 )\n",
        "\n",
        "Create a function in the cell below to classify temperatures as directed.\n",
        "\n",
        "- Your function should be called `temp_classifier`\n",
        "- It should have a single parameter called `temp_celsius`\n",
        "- It should properly classify temperatures for a given temperature input value"
      ]
    },
    {
      "cell_type": "code",
      "execution_count": 29,
      "id": "6d25e3e9",
      "metadata": {
        "id": "6d25e3e9"
      },
      "outputs": [],
      "source": [
        "# YOUR CODE HERE\n",
        "def temp_classifier(temp_celsius ):\n",
        "  '''This function takes a parameter ( int temp_celsius) to get the temperature as an input to the function\n",
        "   and return 0, 1, 2, or 3 if the given temperature in the parameter meets certain defined conditions '''\n",
        "\n",
        "  if temp_celsius < -2:\n",
        "     return 0\n",
        "  if temp_celsius >=-2 and temp_celsius <2:\n",
        "     return 1\n",
        "  if temp_celsius >=2 and temp_celsius <15:\n",
        "     return 2\n",
        "  if temp_celsius >=15:\n",
        "     return 3\n"
      ]
    },
    {
      "cell_type": "markdown",
      "id": "0352f484",
      "metadata": {
        "id": "0352f484"
      },
      "source": [
        "**Use** your newly created function to print the answers to the following questions:"
      ]
    },
    {
      "cell_type": "code",
      "execution_count": 30,
      "id": "b44ac065",
      "metadata": {
        "id": "b44ac065",
        "colab": {
          "base_uri": "https://localhost:8080/"
        },
        "outputId": "7e526366-99b1-4d0e-f0fc-d8bbebac15e0"
      },
      "outputs": [
        {
          "output_type": "stream",
          "name": "stdout",
          "text": [
            "The class value of tempareate at 16.5 Degree Celsius is:  3\n",
            "The class value of tempareate at +2 Degree Celsius is:  2\n"
          ]
        }
      ],
      "source": [
        "# 1. What is the class value for 16.5 degrees Celsius?\n",
        "print(\"The class value of tempareate at 16.5 Degree Celsius is: \",temp_classifier(16.5))\n",
        "\n",
        "# 2. What is the class value for +2 degrees Celsius?\n",
        "print(\"The class value of tempareate at +2 Degree Celsius is: \",temp_classifier(2))"
      ]
    },
    {
      "cell_type": "code",
      "source": [
        "print(temp_classifier.__doc__)"
      ],
      "metadata": {
        "colab": {
          "base_uri": "https://localhost:8080/"
        },
        "id": "b3iN6t9J-EmE",
        "outputId": "48fa1fe6-7d40-4c55-a6ae-7c72bfba3abd"
      },
      "id": "b3iN6t9J-EmE",
      "execution_count": 32,
      "outputs": [
        {
          "output_type": "stream",
          "name": "stdout",
          "text": [
            "This function takes a parameter ( int temp_celsius) to get the temperature as an input to the function \n",
            "   and return 0, 1, 2, or 3 if the given temperature in the parameter meets certain defined conditions \n"
          ]
        }
      ]
    },
    {
      "cell_type": "markdown",
      "id": "8094585c",
      "metadata": {
        "id": "8094585c"
      },
      "source": [
        "### Problem 2 tests\n",
        "\n",
        "Run the code cells below to check your answer. Note that you are not able to modify the test cells. Your solution is on the right track if you don't see any errors when running these code cells."
      ]
    },
    {
      "cell_type": "code",
      "execution_count": 35,
      "id": "269d2669",
      "metadata": {
        "id": "269d2669"
      },
      "outputs": [],
      "source": [
        "import inspect\n",
        "\n",
        "# Check that function exists\n",
        "assert inspect.isfunction(temp_classifier)"
      ]
    },
    {
      "cell_type": "code",
      "execution_count": 36,
      "id": "398ef5ec",
      "metadata": {
        "id": "398ef5ec"
      },
      "outputs": [],
      "source": [
        "# Check that the function has a single parameter and the pamameter name is correct\n",
        "params = list(inspect.signature(temp_classifier).parameters.keys())\n",
        "assert len(params) == 1\n",
        "assert params[0] == 'temp_celsius'"
      ]
    },
    {
      "cell_type": "markdown",
      "id": "81db740b",
      "metadata": {
        "id": "81db740b"
      },
      "source": [
        "Check that the function produces correct answers for selected values:"
      ]
    },
    {
      "cell_type": "code",
      "execution_count": 37,
      "id": "def9328f",
      "metadata": {
        "id": "def9328f",
        "colab": {
          "base_uri": "https://localhost:8080/"
        },
        "outputId": "3297e265-db6c-4c3b-b217-060d09292027"
      },
      "outputs": [
        {
          "output_type": "stream",
          "name": "stdout",
          "text": [
            "ok :)\n"
          ]
        }
      ],
      "source": [
        "# 1. What is the class value for 16.5 degrees (Celsius)?\n",
        "assert temp_classifier(16.5) == 3, 'Wrong class'\n",
        "print(\"ok :)\")"
      ]
    },
    {
      "cell_type": "code",
      "execution_count": 38,
      "id": "0d114f23",
      "metadata": {
        "id": "0d114f23",
        "colab": {
          "base_uri": "https://localhost:8080/"
        },
        "outputId": "4eedebf2-937e-42be-cfe5-80e4ffdd7699"
      },
      "outputs": [
        {
          "output_type": "stream",
          "name": "stdout",
          "text": [
            "ok :)\n"
          ]
        }
      ],
      "source": [
        "# 2. What is the class value for +2 degrees (Celsius)?\n",
        "assert temp_classifier(2) == 2, 'Wrong class'\n",
        "print(\"ok :)\")"
      ]
    },
    {
      "cell_type": "code",
      "execution_count": 39,
      "id": "fbc7d174",
      "metadata": {
        "id": "fbc7d174",
        "colab": {
          "base_uri": "https://localhost:8080/"
        },
        "outputId": "32230585-8f51-4f48-841b-458d222a1c95"
      },
      "outputs": [
        {
          "output_type": "stream",
          "name": "stdout",
          "text": [
            "ok :)\n"
          ]
        }
      ],
      "source": [
        "# 3. What is the class value for +1 degrees (Celsius)?\n",
        "assert temp_classifier(1) == 1, 'Wrong class'\n",
        "print(\"ok :)\")"
      ]
    },
    {
      "cell_type": "code",
      "execution_count": 40,
      "id": "7bd932ad",
      "metadata": {
        "id": "7bd932ad",
        "colab": {
          "base_uri": "https://localhost:8080/"
        },
        "outputId": "93c39707-3d17-4579-e7cc-0cfc3716916e"
      },
      "outputs": [
        {
          "output_type": "stream",
          "name": "stdout",
          "text": [
            "ok :)\n"
          ]
        }
      ],
      "source": [
        "# 4. What is the class value for -5 degrees (Celsius)?\n",
        "assert temp_classifier(-5) == 0, 'Wrong class'\n",
        "print(\"ok :)\")"
      ]
    },
    {
      "cell_type": "markdown",
      "id": "2ac890e6",
      "metadata": {
        "id": "2ac890e6"
      },
      "source": [
        "## Part 2\n",
        "\n",
        "Check your code.\n",
        "\n",
        " - Are all the variable names correct?\n",
        " - Does your code contain enough comments?\n",
        " - Does your function have an informative dosctring?"
      ]
    },
    {
      "cell_type": "markdown",
      "id": "0a8dacbd",
      "metadata": {
        "id": "0a8dacbd"
      },
      "source": [
        "\n",
        "\n",
        "```\n",
        "# This is formatted as code\n",
        "```\n",
        "\n",
        "\n",
        "\n",
        "1.   Well yes, however we could use temperature_ instead of temp but in this context temp is Ok\n",
        "2.   Yes\n",
        "\n",
        "1.   Yes\n",
        "\n",
        "\n",
        "\n"
      ]
    },
    {
      "cell_type": "markdown",
      "id": "fac972c2",
      "metadata": {
        "id": "fac972c2"
      },
      "source": [
        "#### Done!\n",
        "\n",
        "That's it! Now you are ready to continue with the next Task)."
      ]
    },
    {
      "cell_type": "markdown",
      "id": "928622d1-6793-4a8d-96c7-e51c03a1545f",
      "metadata": {
        "tags": [],
        "id": "928622d1-6793-4a8d-96c7-e51c03a1545f"
      },
      "source": [
        "Sources for the exercise : https://geo-python-site.readthedocs.io/en/latest/ running on a Attribution-ShareAlike 4.0 International Licence https://creativecommons.org/licenses/by-sa/4.0/deed.en"
      ]
    },
    {
      "cell_type": "code",
      "execution_count": null,
      "id": "aafbfb93-aeef-4490-8f6e-6417973726ce",
      "metadata": {
        "id": "aafbfb93-aeef-4490-8f6e-6417973726ce"
      },
      "outputs": [],
      "source": []
    }
  ],
  "metadata": {
    "kernelspec": {
      "display_name": "Python 3 (ipykernel)",
      "language": "python",
      "name": "python3"
    },
    "language_info": {
      "codemirror_mode": {
        "name": "ipython",
        "version": 3
      },
      "file_extension": ".py",
      "mimetype": "text/x-python",
      "name": "python",
      "nbconvert_exporter": "python",
      "pygments_lexer": "ipython3",
      "version": "3.11.4"
    },
    "colab": {
      "provenance": [],
      "include_colab_link": true
    }
  },
  "nbformat": 4,
  "nbformat_minor": 5
}