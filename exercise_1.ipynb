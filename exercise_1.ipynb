{
  "nbformat": 4,
  "nbformat_minor": 0,
  "metadata": {
    "colab": {
      "provenance": [],
      "authorship_tag": "ABX9TyMYXou61zFh116GQHTqLNN+",
      "include_colab_link": true
    },
    "kernelspec": {
      "name": "python3",
      "display_name": "Python 3"
    },
    "language_info": {
      "name": "python"
    }
  },
  "cells": [
    {
      "cell_type": "markdown",
      "metadata": {
        "id": "view-in-github",
        "colab_type": "text"
      },
      "source": [
        "<a href=\"https://colab.research.google.com/github/DeNerd1/myweb.io/blob/main/exercise_1.ipynb\" target=\"_parent\"><img src=\"https://colab.research.google.com/assets/colab-badge.svg\" alt=\"Open In Colab\"/></a>"
      ]
    },
    {
      "cell_type": "markdown",
      "source": [
        "**1.2.1 Task 1**"
      ],
      "metadata": {
        "id": "jD-dGuKxJbyj"
      }
    },
    {
      "cell_type": "code",
      "execution_count": null,
      "metadata": {
        "id": "DuI2JbKOHIBC"
      },
      "outputs": [],
      "source": [
        "coffee_intake = 5\n",
        "sleep_quality = 8\n"
      ]
    },
    {
      "cell_type": "markdown",
      "source": [
        "**1.2.2 Task 2**"
      ],
      "metadata": {
        "id": "rdl0UJ97JkZJ"
      }
    },
    {
      "cell_type": "code",
      "source": [
        "first_name = input(\"Enter your first name: \")\n",
        "last_name = input(\"Enter your last name: \")\n",
        "my_name =  first_name +\"\"+ last_name\n",
        "print(\"My name is : \", my_name)"
      ],
      "metadata": {
        "colab": {
          "base_uri": "https://localhost:8080/"
        },
        "id": "2ZFGqBu7HzTb",
        "outputId": "45f23198-9645-4632-adcd-ef9a90b92c57"
      },
      "execution_count": null,
      "outputs": [
        {
          "output_type": "stream",
          "name": "stdout",
          "text": [
            "Enter your first name: Stefanos \n",
            "Enter your last name: Georganos \n",
            "My name is :  Stefanos Georganos \n"
          ]
        }
      ]
    },
    {
      "cell_type": "markdown",
      "source": [
        "**1.2.3 Task 3**\n"
      ],
      "metadata": {
        "id": "o_tzc-xmKAFM"
      }
    },
    {
      "cell_type": "code",
      "source": [
        "sensitivity_rating = (coffee_intake + sleep_quality) / 2\n"
      ],
      "metadata": {
        "id": "lkPzkoReKCud"
      },
      "execution_count": null,
      "outputs": []
    },
    {
      "cell_type": "markdown",
      "source": [
        "**1.2.4 Task 4**\n"
      ],
      "metadata": {
        "id": "lV6xPDpFMktA"
      }
    },
    {
      "cell_type": "code",
      "source": [
        "\n",
        "print(\"Data types: \",type(coffee_intake), type(sleep_quality), type(sensitivity_rating))\n",
        "print(\"Average rating: \",sensitivity_rating)"
      ],
      "metadata": {
        "colab": {
          "base_uri": "https://localhost:8080/"
        },
        "id": "m2um5mHBMn8A",
        "outputId": "cf29d49f-dbd2-4030-bbc7-6df218d3f2c4"
      },
      "execution_count": null,
      "outputs": [
        {
          "output_type": "stream",
          "name": "stdout",
          "text": [
            "Data types:  <class 'int'> <class 'int'> <class 'float'>\n",
            "Average rating:  6.5\n"
          ]
        }
      ]
    },
    {
      "cell_type": "markdown",
      "source": [
        "No, I did not expect something different beause 5+8= 13 and 13/2 can't give us a whole number (int). So I expected the type to be a float or double with decimal points."
      ],
      "metadata": {
        "id": "6Y0b7STwQ4n0"
      }
    },
    {
      "cell_type": "markdown",
      "source": [
        "**1.2.5 Task 5**"
      ],
      "metadata": {
        "id": "0q1B9U7nRiOD"
      }
    },
    {
      "cell_type": "code",
      "source": [
        "print(\"My name is\",first_name,\"and i give coffee intake a score of \",coffee_intake,\"out of 10\")\n",
        "print(\"I am\",my_name,\"and my sleeping quality rating is\",sleep_quality,\"of 10\")\n",
        "print(\"Based on the factors above, my sensitivity rating is\",sensitivity_rating,\"of 10 or\",(sensitivity_rating/10)*100,\"%!\")"
      ],
      "metadata": {
        "colab": {
          "base_uri": "https://localhost:8080/"
        },
        "id": "g6H4JGgrSQ9O",
        "outputId": "bb12475b-50f8-4049-a9b8-fcdae7ae9ca4"
      },
      "execution_count": null,
      "outputs": [
        {
          "output_type": "stream",
          "name": "stdout",
          "text": [
            "My name is Stefanos  and i give coffee intake a score of  5 out of 10\n",
            "I am Stefanos Georganos  and my sleeping quality rating is 8 of 10\n",
            "Based on the factors above, my sensitivity rating is 6.5 of 10 or 65.0 %!\n"
          ]
        }
      ]
    }
  ]
}