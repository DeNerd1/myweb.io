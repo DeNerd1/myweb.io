{
  "cells": [
    {
      "cell_type": "markdown",
      "metadata": {
        "id": "view-in-github",
        "colab_type": "text"
      },
      "source": [
        "<a href=\"https://colab.research.google.com/github/DeNerd1/myweb.io/blob/main/Exercise_3_1.ipynb\" target=\"_parent\"><img src=\"https://colab.research.google.com/assets/colab-badge.svg\" alt=\"Open In Colab\"/></a>"
      ]
    },
    {
      "cell_type": "markdown",
      "id": "be602aa5",
      "metadata": {
        "id": "be602aa5"
      },
      "source": [
        "\n",
        "### Scores for this problem\n",
        "\n",
        "### Assignment 1\n",
        "\n",
        "**Your score on this problem will be based on following criteria:**\n",
        "\n",
        " - Creating and using variables to produce the desired text format\n",
        " - Successfully using a for loop to iterate over desired set of numbers\n",
        " - Successfully producing the desired filename(s)\n",
        " - Including comments that explain what most lines in the code do\n",
        " - Answering a couple questions at the end of the problem\n",
        ""
      ]
    },
    {
      "cell_type": "markdown",
      "id": "36707837",
      "metadata": {
        "id": "36707837"
      },
      "source": [
        "### Part 1\n",
        "- Create a new variable called `basename` that contains the text `\"Station\"`."
      ]
    },
    {
      "cell_type": "code",
      "execution_count": 30,
      "id": "663701af",
      "metadata": {
        "id": "663701af"
      },
      "outputs": [],
      "source": [
        "# YOUR CODE HERE\n",
        "basename =\"Station\""
      ]
    },
    {
      "cell_type": "code",
      "execution_count": 31,
      "id": "5742942d",
      "metadata": {
        "colab": {
          "base_uri": "https://localhost:8080/"
        },
        "id": "5742942d",
        "outputId": "d5e2b394-8969-4000-8746-6ed3bad8e0ed"
      },
      "outputs": [
        {
          "output_type": "stream",
          "name": "stdout",
          "text": [
            "Station\n"
          ]
        }
      ],
      "source": [
        "# Test print of the variable\n",
        "print(basename)"
      ]
    },
    {
      "cell_type": "markdown",
      "id": "0843f6e1",
      "metadata": {
        "id": "0843f6e1"
      },
      "source": [
        "- Create a new variable `filenames` that is an empty list."
      ]
    },
    {
      "cell_type": "code",
      "execution_count": 32,
      "id": "7652c122",
      "metadata": {
        "id": "7652c122"
      },
      "outputs": [],
      "source": [
        "# YOUR CODE HERE\n",
        "filenames =[]\n"
      ]
    },
    {
      "cell_type": "code",
      "execution_count": 33,
      "id": "3bd72cf2",
      "metadata": {
        "colab": {
          "base_uri": "https://localhost:8080/"
        },
        "id": "3bd72cf2",
        "outputId": "8157e6a9-ff41-4f8c-cbc4-f778213142ed"
      },
      "outputs": [
        {
          "output_type": "stream",
          "name": "stdout",
          "text": [
            "[]\n"
          ]
        }
      ],
      "source": [
        "# Test print of the variable\n",
        "print(filenames)\n"
      ]
    },
    {
      "cell_type": "markdown",
      "id": "4d5b5638",
      "metadata": {
        "id": "4d5b5638"
      },
      "source": [
        "### Part 2\n",
        "- Using a `for` loop, iterate over the number range 0-20. Within the loop you should:\n",
        "    - Create a variable `station` that contains:\n",
        "        1. the text from the `basename` variable\n",
        "        2. the number\n",
        "        3. the file extension `.txt`  \n",
        "    - Add the content of `station` to the `filenames` list, which should have following content in the end:\n",
        "\n",
        "      ```\n",
        "      ['Station_0.txt', 'Station_1.txt', 'Station_2.txt', 'Station_3.txt',\n",
        "       'Station_4.txt', 'Station_5.txt', 'Station_6.txt', 'Station_7.txt',\n",
        "       'Station_8.txt', 'Station_9.txt', 'Station_10.txt', 'Station_11.txt',\n",
        "       'Station_12.txt', 'Station_13.txt', 'Station_14.txt', 'Station_15.txt',\n",
        "       'Station_16.txt', 'Station_17.txt', 'Station_18.txt', 'Station_19.txt',\n",
        "       'Station_20.txt']\n",
        "      ```"
      ]
    },
    {
      "cell_type": "code",
      "execution_count": 34,
      "id": "38f6e94e",
      "metadata": {
        "id": "38f6e94e"
      },
      "outputs": [],
      "source": [
        "# YOUR CODE HERE\n",
        "# Rang start from 0 to N-1 so we use 21 so that we can get 0 to  21-1\n",
        "#Conver the number to a string because we cannot concatenate an int with a string\n",
        "for number in range(21):\n",
        "   station = basename+\"_\"+str(number)+\".txt\"\n",
        "   filenames.append(station)\n"
      ]
    },
    {
      "cell_type": "code",
      "execution_count": 35,
      "id": "9bc79535",
      "metadata": {
        "colab": {
          "base_uri": "https://localhost:8080/"
        },
        "id": "9bc79535",
        "outputId": "3b02ca45-add7-4955-9266-e710b51bc0ef"
      },
      "outputs": [
        {
          "output_type": "stream",
          "name": "stdout",
          "text": [
            "['Station_0.txt', 'Station_1.txt', 'Station_2.txt', 'Station_3.txt', 'Station_4.txt', 'Station_5.txt', 'Station_6.txt', 'Station_7.txt', 'Station_8.txt', 'Station_9.txt', 'Station_10.txt', 'Station_11.txt', 'Station_12.txt', 'Station_13.txt', 'Station_14.txt', 'Station_15.txt', 'Station_16.txt', 'Station_17.txt', 'Station_18.txt', 'Station_19.txt', 'Station_20.txt']\n"
          ]
        }
      ],
      "source": [
        "# Test print of the results\n",
        "print(filenames)"
      ]
    },
    {
      "cell_type": "code",
      "execution_count": 36,
      "id": "cee98a2c",
      "metadata": {
        "colab": {
          "base_uri": "https://localhost:8080/"
        },
        "id": "cee98a2c",
        "outputId": "26b5e658-b117-43bc-8e52-813d0cb66194"
      },
      "outputs": [
        {
          "output_type": "execute_result",
          "data": {
            "text/plain": [
              "21"
            ]
          },
          "metadata": {},
          "execution_count": 36
        }
      ],
      "source": [
        "len(filenames)"
      ]
    },
    {
      "cell_type": "code",
      "execution_count": 37,
      "id": "883c6291",
      "metadata": {
        "id": "883c6291"
      },
      "outputs": [],
      "source": [
        "# Check that the value of the last station is correct\n",
        "# Note! This test assumes that you used the variable `station` inside the for-loop\n",
        "assert station.lower().strip() == 'station_20.txt', 'The value of the last station is not correct'"
      ]
    },
    {
      "cell_type": "code",
      "execution_count": 38,
      "id": "2bda0388",
      "metadata": {
        "id": "2bda0388"
      },
      "outputs": [],
      "source": [
        "# Check that there are 21 values in the list\n",
        "assert len(filenames) == 21, 'The length of the list \"filenames\" should be 21'"
      ]
    },
    {
      "cell_type": "markdown",
      "id": "b9448b8e",
      "metadata": {
        "id": "b9448b8e"
      },
      "source": [
        "\n",
        "Here, we ask you a few questions to make sure you have understood the concepts in this problem. Answer briefly in a few sentences using the Markdown cell below.\n",
        "\n",
        "You can also write any feedback or questions concerning this problem in this Markdown cell.\n",
        "\n",
        "1. Is the concept of a loop clear to you? If not, what is difficult to understand?\n",
        "2. Did you include comments in your code blocks? If not, please add them now :)\n",
        "  \n",
        "Write your answers below (double click to activate and edit the cell below)."
      ]
    },
    {
      "cell_type": "markdown",
      "id": "905dbb4a",
      "metadata": {
        "id": "905dbb4a"
      },
      "source": [
        "Everhting was clear and straingtforward\n",
        "\n",
        "1.   No, easy to understand especialy when one have a backgroud in other languages like JAVA\n",
        "2.   Yes.\n",
        "\n"
      ]
    },
    {
      "cell_type": "markdown",
      "id": "49f28ab3",
      "metadata": {
        "id": "49f28ab3"
      },
      "source": [
        "### Done!\n",
        "\n",
        "That's it! Now you are ready to continue with Assignment 2."
      ]
    },
    {
      "cell_type": "code",
      "execution_count": null,
      "id": "b6a92ca2",
      "metadata": {
        "id": "b6a92ca2"
      },
      "outputs": [],
      "source": []
    }
  ],
  "metadata": {
    "kernelspec": {
      "display_name": "Python 3 (ipykernel)",
      "language": "python",
      "name": "python3"
    },
    "language_info": {
      "codemirror_mode": {
        "name": "ipython",
        "version": 3
      },
      "file_extension": ".py",
      "mimetype": "text/x-python",
      "name": "python",
      "nbconvert_exporter": "python",
      "pygments_lexer": "ipython3",
      "version": "3.11.4"
    },
    "colab": {
      "provenance": [],
      "include_colab_link": true
    }
  },
  "nbformat": 4,
  "nbformat_minor": 5
}